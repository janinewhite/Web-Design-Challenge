{
 "cells": [
  {
   "cell_type": "code",
   "execution_count": 336,
   "metadata": {
    "ExecuteTime": {
     "end_time": "2019-11-04T03:26:07.896459Z",
     "start_time": "2019-11-04T03:26:07.891185Z"
    }
   },
   "outputs": [],
   "source": [
    "# Dependencies\n",
    "import datetime as dt\n",
    "import matplotlib.pyplot as plt\n",
    "import matplotlib.ticker as ticker\n",
    "import pylab as pl\n",
    "import pandas as pd\n",
    "import gmaps\n",
    "import numpy as np\n",
    "import requests\n",
    "from citipy import citipy\n",
    "from config import gkey\n",
    "\n",
    "# Constants\n",
    "resources_dir = \"Resources\"\n",
    "images_dir = \"Images\"\n",
    "data_file = \"Stanford_MSA_Database.csv\"\n",
    "source = \"https://library.stanford.edu/projects/mass-shootings-america\"\n",
    "citation = \"Stanford Mass Shootings in America, courtesy of the Stanford Geospatial Center and Stanford Libraries\""
   ]
  },
  {
   "cell_type": "code",
   "execution_count": 254,
   "metadata": {
    "ExecuteTime": {
     "end_time": "2019-11-04T00:17:43.781980Z",
     "start_time": "2019-11-04T00:17:43.711138Z"
    }
   },
   "outputs": [
    {
     "name": "stdout",
     "output_type": "stream",
     "text": [
      "Index(['CaseID', 'Title', 'Location', 'City', 'State', 'Latitude', 'Longitude',\n",
      "       'Number of Civilian Fatalities', 'Number of Civilian Injured',\n",
      "       'Number of Enforcement Fatalities', 'Number of Enforcement Injured',\n",
      "       'Total Number of Fatalities', 'Total Number of Victims', 'Description',\n",
      "       'Date', 'Day of Week', 'Date - Detailed', 'Shooter Name',\n",
      "       'Number of shooters', 'Shooter Age(s)', 'Average Shooter Age',\n",
      "       'Shooter Sex', 'Shooter Race', 'Type of Gun - Detailed',\n",
      "       'Type of Gun - General', 'Number of Shotguns', 'Number of Rifles',\n",
      "       'Number of Handguns', 'Total Number of Guns',\n",
      "       'Number of Automatic Guns', 'Number of Semi-Automatic Guns',\n",
      "       'Fate of Shooter at the scene', 'Fate of Shooter',\n",
      "       'Shooter's Cause of Death', 'School Related', 'Place Type',\n",
      "       'Relationship to Incident Location', 'Targeted Victim/s - Detailed',\n",
      "       'Targeted Victim/s - General', 'Possible Motive - Detailed',\n",
      "       'Possible Motive - General', 'History of Mental Illness - Detailed',\n",
      "       'History of Mental Illness - General', 'Data Source 1', 'Data Source 2',\n",
      "       'Data Source 3', 'Data Source 4', 'Data Source 5', 'Data Source 6',\n",
      "       'Data Source 7', 'Military Experience', 'Class', 'Depreciation',\n",
      "       'Notes', 'Edit Date'],\n",
      "      dtype='object')\n",
      "           CaseID    Latitude   Longitude  Number of Civilian Fatalities  \\\n",
      "count  335.000000  335.000000  335.000000                     335.000000   \n",
      "mean   171.856716   36.917703  -93.785049                       3.504478   \n",
      "std    100.675074    5.497293   16.065448                       4.547732   \n",
      "min      1.000000   21.309106 -161.792752                       0.000000   \n",
      "25%     84.500000   33.460769 -106.605553                       1.000000   \n",
      "50%    167.000000   36.162664  -87.742111                       3.000000   \n",
      "75%    260.500000   41.362854  -81.765559                       4.500000   \n",
      "max    344.000000   60.790539  -69.707823                      49.000000   \n",
      "\n",
      "       Number of Civilian Injured  Number of Enforcement Fatalities  \\\n",
      "count                  335.000000                        335.000000   \n",
      "mean                     4.119403                          0.068657   \n",
      "std                      6.258222                          0.421790   \n",
      "min                      0.000000                          0.000000   \n",
      "25%                      1.000000                          0.000000   \n",
      "50%                      3.000000                          0.000000   \n",
      "75%                      5.000000                          0.000000   \n",
      "max                     58.000000                          5.000000   \n",
      "\n",
      "       Number of Enforcement Injured  Total Number of Fatalities  \\\n",
      "count                     335.000000                  335.000000   \n",
      "mean                        0.113433                    3.973134   \n",
      "std                         0.506513                    4.760352   \n",
      "min                         0.000000                    0.000000   \n",
      "25%                         0.000000                    1.000000   \n",
      "50%                         0.000000                    3.000000   \n",
      "75%                         0.000000                    5.000000   \n",
      "max                         5.000000                   50.000000   \n",
      "\n",
      "       Total Number of Victims  Number of shooters  Average Shooter Age  \\\n",
      "count               335.000000          314.000000           296.000000   \n",
      "mean                  7.808955            1.130573            31.680574   \n",
      "std                   9.329268            0.443795            12.404838   \n",
      "min                   3.000000            1.000000            12.000000   \n",
      "25%                   4.000000            1.000000            21.000000   \n",
      "50%                   5.000000            1.000000            30.000000   \n",
      "75%                   8.000000            1.000000            41.000000   \n",
      "max                 102.000000            4.000000            70.000000   \n",
      "\n",
      "       Total Number of Guns  Depreciation  \n",
      "count            273.000000    335.000000  \n",
      "mean               1.637363      1.005970  \n",
      "std                1.177452      0.172929  \n",
      "min                0.000000      0.000000  \n",
      "25%                1.000000      1.000000  \n",
      "50%                1.000000      1.000000  \n",
      "75%                2.000000      1.000000  \n",
      "max               10.000000      2.000000  \n"
     ]
    },
    {
     "data": {
      "text/html": [
       "<div>\n",
       "<style scoped>\n",
       "    .dataframe tbody tr th:only-of-type {\n",
       "        vertical-align: middle;\n",
       "    }\n",
       "\n",
       "    .dataframe tbody tr th {\n",
       "        vertical-align: top;\n",
       "    }\n",
       "\n",
       "    .dataframe thead th {\n",
       "        text-align: right;\n",
       "    }\n",
       "</style>\n",
       "<table border=\"1\" class=\"dataframe\">\n",
       "  <thead>\n",
       "    <tr style=\"text-align: right;\">\n",
       "      <th></th>\n",
       "      <th>CaseID</th>\n",
       "      <th>Title</th>\n",
       "      <th>Location</th>\n",
       "      <th>City</th>\n",
       "      <th>State</th>\n",
       "      <th>Latitude</th>\n",
       "      <th>Longitude</th>\n",
       "      <th>Number of Civilian Fatalities</th>\n",
       "      <th>Number of Civilian Injured</th>\n",
       "      <th>Number of Enforcement Fatalities</th>\n",
       "      <th>...</th>\n",
       "      <th>Data Source 3</th>\n",
       "      <th>Data Source 4</th>\n",
       "      <th>Data Source 5</th>\n",
       "      <th>Data Source 6</th>\n",
       "      <th>Data Source 7</th>\n",
       "      <th>Military Experience</th>\n",
       "      <th>Class</th>\n",
       "      <th>Depreciation</th>\n",
       "      <th>Notes</th>\n",
       "      <th>Edit Date</th>\n",
       "    </tr>\n",
       "  </thead>\n",
       "  <tbody>\n",
       "    <tr>\n",
       "      <th>0</th>\n",
       "      <td>1</td>\n",
       "      <td>University of Texas at Austin</td>\n",
       "      <td>Austin, Texas</td>\n",
       "      <td>Austin</td>\n",
       "      <td>Texas</td>\n",
       "      <td>30.198887</td>\n",
       "      <td>-97.844159</td>\n",
       "      <td>15</td>\n",
       "      <td>32</td>\n",
       "      <td>1</td>\n",
       "      <td>...</td>\n",
       "      <td>http://news.google.com/newspapers?id=lkk0AAAAI...</td>\n",
       "      <td>http://news.google.com/newspapers?id=PPUjAAAAI...</td>\n",
       "      <td>http://books.google.com/books?id=ClYEAAAAMBAJ&amp;...</td>\n",
       "      <td>NaN</td>\n",
       "      <td>NaN</td>\n",
       "      <td>Yes</td>\n",
       "      <td>SPK</td>\n",
       "      <td>1</td>\n",
       "      <td>NaN</td>\n",
       "      <td>6/8/2016</td>\n",
       "    </tr>\n",
       "    <tr>\n",
       "      <th>1</th>\n",
       "      <td>2</td>\n",
       "      <td>Rose-Mar College of Beauty</td>\n",
       "      <td>Mesa, Arizona</td>\n",
       "      <td>Mesa</td>\n",
       "      <td>Arizona</td>\n",
       "      <td>33.422687</td>\n",
       "      <td>-111.816320</td>\n",
       "      <td>5</td>\n",
       "      <td>1</td>\n",
       "      <td>0</td>\n",
       "      <td>...</td>\n",
       "      <td>http://www.nydailynews.com/news/crime/beauty-s...</td>\n",
       "      <td>http://books.google.com/books?id=Cre7qsswRiwC&amp;...</td>\n",
       "      <td>NaN</td>\n",
       "      <td>NaN</td>\n",
       "      <td>NaN</td>\n",
       "      <td>Unknown</td>\n",
       "      <td>MS</td>\n",
       "      <td>1</td>\n",
       "      <td>NaN</td>\n",
       "      <td>6/8/2016</td>\n",
       "    </tr>\n",
       "    <tr>\n",
       "      <th>2</th>\n",
       "      <td>3</td>\n",
       "      <td>New Orleans Police Shootings</td>\n",
       "      <td>New Orleans, Louisiana</td>\n",
       "      <td>New Orleans</td>\n",
       "      <td>Louisiana</td>\n",
       "      <td>30.068724</td>\n",
       "      <td>-89.931474</td>\n",
       "      <td>4</td>\n",
       "      <td>8</td>\n",
       "      <td>5</td>\n",
       "      <td>...</td>\n",
       "      <td>http://www.trutv.com/library/crime/notorious_m...</td>\n",
       "      <td>http://books.google.com/books?id=TfEDmROcZwEC&amp;...</td>\n",
       "      <td>NaN</td>\n",
       "      <td>NaN</td>\n",
       "      <td>NaN</td>\n",
       "      <td>Unknown</td>\n",
       "      <td>SPK</td>\n",
       "      <td>1</td>\n",
       "      <td>NaN</td>\n",
       "      <td>6/22/2016</td>\n",
       "    </tr>\n",
       "    <tr>\n",
       "      <th>3</th>\n",
       "      <td>4</td>\n",
       "      <td>Clara Barton Elementary School</td>\n",
       "      <td>Chicago, Illinois</td>\n",
       "      <td>Chicago</td>\n",
       "      <td>Illinois</td>\n",
       "      <td>41.839280</td>\n",
       "      <td>-87.688181</td>\n",
       "      <td>1</td>\n",
       "      <td>3</td>\n",
       "      <td>0</td>\n",
       "      <td>...</td>\n",
       "      <td>http://www.leagle.com/xmlResult.aspx?page=1&amp;xm...</td>\n",
       "      <td>NaN</td>\n",
       "      <td>NaN</td>\n",
       "      <td>NaN</td>\n",
       "      <td>NaN</td>\n",
       "      <td>Unknown</td>\n",
       "      <td>MS</td>\n",
       "      <td>1</td>\n",
       "      <td>NaN</td>\n",
       "      <td>6/21/2016</td>\n",
       "    </tr>\n",
       "    <tr>\n",
       "      <th>4</th>\n",
       "      <td>5</td>\n",
       "      <td>Olean High School</td>\n",
       "      <td>Olean, New York</td>\n",
       "      <td>Olean</td>\n",
       "      <td>New York</td>\n",
       "      <td>42.081854</td>\n",
       "      <td>-78.432139</td>\n",
       "      <td>3</td>\n",
       "      <td>7</td>\n",
       "      <td>0</td>\n",
       "      <td>...</td>\n",
       "      <td>http://www.newswithviews.com/Erica/Carle10.htm</td>\n",
       "      <td>http://books.google.com/books?id=ZuKoSskEWyIC&amp;...</td>\n",
       "      <td>\"Olean High School Shooting\". Larrie Benton Za...</td>\n",
       "      <td>NaN</td>\n",
       "      <td>NaN</td>\n",
       "      <td>Unknown</td>\n",
       "      <td>MS</td>\n",
       "      <td>1</td>\n",
       "      <td>NaN</td>\n",
       "      <td>6/21/2016</td>\n",
       "    </tr>\n",
       "  </tbody>\n",
       "</table>\n",
       "<p>5 rows × 55 columns</p>\n",
       "</div>"
      ],
      "text/plain": [
       "   CaseID                           Title                Location  \\\n",
       "0       1   University of Texas at Austin           Austin, Texas   \n",
       "1       2      Rose-Mar College of Beauty           Mesa, Arizona   \n",
       "2       3    New Orleans Police Shootings  New Orleans, Louisiana   \n",
       "3       4  Clara Barton Elementary School       Chicago, Illinois   \n",
       "4       5               Olean High School         Olean, New York   \n",
       "\n",
       "          City      State   Latitude   Longitude  \\\n",
       "0       Austin      Texas  30.198887  -97.844159   \n",
       "1         Mesa    Arizona  33.422687 -111.816320   \n",
       "2  New Orleans  Louisiana  30.068724  -89.931474   \n",
       "3      Chicago   Illinois  41.839280  -87.688181   \n",
       "4        Olean   New York  42.081854  -78.432139   \n",
       "\n",
       "   Number of Civilian Fatalities  Number of Civilian Injured  \\\n",
       "0                             15                          32   \n",
       "1                              5                           1   \n",
       "2                              4                           8   \n",
       "3                              1                           3   \n",
       "4                              3                           7   \n",
       "\n",
       "   Number of Enforcement Fatalities  ...  \\\n",
       "0                                 1  ...   \n",
       "1                                 0  ...   \n",
       "2                                 5  ...   \n",
       "3                                 0  ...   \n",
       "4                                 0  ...   \n",
       "\n",
       "                                       Data Source 3  \\\n",
       "0  http://news.google.com/newspapers?id=lkk0AAAAI...   \n",
       "1  http://www.nydailynews.com/news/crime/beauty-s...   \n",
       "2  http://www.trutv.com/library/crime/notorious_m...   \n",
       "3  http://www.leagle.com/xmlResult.aspx?page=1&xm...   \n",
       "4     http://www.newswithviews.com/Erica/Carle10.htm   \n",
       "\n",
       "                                       Data Source 4  \\\n",
       "0  http://news.google.com/newspapers?id=PPUjAAAAI...   \n",
       "1  http://books.google.com/books?id=Cre7qsswRiwC&...   \n",
       "2  http://books.google.com/books?id=TfEDmROcZwEC&...   \n",
       "3                                                NaN   \n",
       "4  http://books.google.com/books?id=ZuKoSskEWyIC&...   \n",
       "\n",
       "                                       Data Source 5 Data Source 6  \\\n",
       "0  http://books.google.com/books?id=ClYEAAAAMBAJ&...           NaN   \n",
       "1                                                NaN           NaN   \n",
       "2                                                NaN           NaN   \n",
       "3                                                NaN           NaN   \n",
       "4  \"Olean High School Shooting\". Larrie Benton Za...           NaN   \n",
       "\n",
       "  Data Source 7 Military Experience Class Depreciation  Notes  Edit Date  \n",
       "0           NaN                 Yes   SPK            1    NaN   6/8/2016  \n",
       "1           NaN             Unknown    MS            1    NaN   6/8/2016  \n",
       "2           NaN             Unknown   SPK            1    NaN  6/22/2016  \n",
       "3           NaN             Unknown    MS            1    NaN  6/21/2016  \n",
       "4           NaN             Unknown    MS            1    NaN  6/21/2016  \n",
       "\n",
       "[5 rows x 55 columns]"
      ]
     },
     "execution_count": 254,
     "metadata": {},
     "output_type": "execute_result"
    }
   ],
   "source": [
    "df = pd.read_csv(f\"{resources_dir}/{data_file}\")\n",
    "print(df.columns)\n",
    "print(df.describe())\n",
    "df.head()"
   ]
  },
  {
   "cell_type": "code",
   "execution_count": 255,
   "metadata": {
    "ExecuteTime": {
     "end_time": "2019-11-04T00:17:45.911415Z",
     "start_time": "2019-11-04T00:17:45.884485Z"
    }
   },
   "outputs": [
    {
     "name": "stdout",
     "output_type": "stream",
     "text": [
      "102.0\n",
      "9.329268401390035\n"
     ]
    },
    {
     "data": {
      "application/vnd.jupyter.widget-view+json": {
       "model_id": "92b226f0a093481f94fe5d430451307f",
       "version_major": 2,
       "version_minor": 0
      },
      "text/plain": [
       "Figure(layout=FigureLayout(height='420px'))"
      ]
     },
     "metadata": {},
     "output_type": "display_data"
    }
   ],
   "source": [
    "gmaps.configure(api_key=gkey)\n",
    "locations = df[[\"Latitude\",\"Longitude\"]].astype(float)\n",
    "victims = df[\"Total Number of Victims\"].astype(float)\n",
    "max_victims = victims.max()\n",
    "std_victims = victims.std()\n",
    "print(max_victims)\n",
    "print(std_victims)\n",
    "fig_map = gmaps.figure()\n",
    "heat_layer = gmaps.heatmap_layer(locations, weights=victims, \n",
    "                                 dissipating=False, max_intensity=(std_victims*3)**(0.5),\n",
    "                                 point_radius = 1)\n",
    "fig_map.add_layer(heat_layer)\n",
    "fig_map"
   ]
  },
  {
   "cell_type": "code",
   "execution_count": 256,
   "metadata": {
    "ExecuteTime": {
     "end_time": "2019-11-04T00:17:47.960455Z",
     "start_time": "2019-11-04T00:17:47.884645Z"
    }
   },
   "outputs": [],
   "source": [
    "df['Date'] = df['Date'].apply(pd.to_datetime)\n",
    "df['Average Shooter Age'] = df['Average Shooter Age'].astype(float)\n",
    "df['Civilian Fatalities'] = df['Number of Civilian Fatalities'].astype(int)\n",
    "df['Civilian Injured'] = df['Number of Civilian Injured'].astype(int)\n",
    "df['Enforcement Fatalities'] = df['Number of Enforcement Fatalities'].astype(int)\n",
    "df['Enforcement Injured'] = df['Number of Enforcement Injured'].astype(int)\n",
    "df['Fatalities'] = df['Civilian Fatalities'] + df['Enforcement Fatalities']\n",
    "df['Injured'] = df['Civilian Injured'] + df['Enforcement Injured']\n",
    "df['Victims'] = df['Fatalities'] + df['Injured']\n",
    "df['Total Number of Victims'] =  df['Total Number of Victims'].astype(int)\n",
    "df['Total Number of Fatalities'] = df['Total Number of Fatalities'].astype(int)\n",
    "df['Number of shooters'] = df['Number of shooters'].astype(float)\n",
    "df['% Fatal'] = df['Fatalities']/(df['Fatalities'] + df['Injured'])\n",
    "df['Male Shooter'] = df['Shooter Sex'].apply(lambda x: 0 if x.find(\"Male\") else 1)"
   ]
  },
  {
   "cell_type": "code",
   "execution_count": 257,
   "metadata": {
    "ExecuteTime": {
     "end_time": "2019-11-04T00:17:49.382290Z",
     "start_time": "2019-11-04T00:17:49.199778Z"
    }
   },
   "outputs": [
    {
     "data": {
      "image/png": "[encoded data removed]",
      "text/plain": [
       "<Figure size 576x288 with 1 Axes>"
      ]
     },
     "metadata": {
      "needs_background": "light"
     },
     "output_type": "display_data"
    }
   ],
   "source": [
    "victims_by_shooter_age_fig = plt.figure(figsize=(8,4))\n",
    "ax = victims_by_shooter_age_fig.add_subplot(111)\n",
    "df.plot.scatter('Average Shooter Age',\n",
    "                'Victims',color='red',\n",
    "                title=\"Victims of Mass Shootings by Average Age of Shooter\",\n",
    "                ax=ax)\n",
    "victims_by_shooter_age_fig.savefig(f\"{images_dir}/VictimsByAge.png\")"
   ]
  },
  {
   "cell_type": "code",
   "execution_count": 258,
   "metadata": {
    "ExecuteTime": {
     "end_time": "2019-11-04T00:17:50.344422Z",
     "start_time": "2019-11-04T00:17:50.088086Z"
    }
   },
   "outputs": [
    {
     "name": "stderr",
     "output_type": "stream",
     "text": [
      "C:\\ProgramData\\Anaconda3\\lib\\site-packages\\numpy\\lib\\histograms.py:824: RuntimeWarning: invalid value encountered in greater_equal\n",
      "  keep = (tmp_a >= first_edge)\n",
      "C:\\ProgramData\\Anaconda3\\lib\\site-packages\\numpy\\lib\\histograms.py:825: RuntimeWarning: invalid value encountered in less_equal\n",
      "  keep &= (tmp_a <= last_edge)\n"
     ]
    },
    {
     "data": {
      "image/png": "[encoded data removed]",
      "text/plain": [
       "<Figure size 576x288 with 1 Axes>"
      ]
     },
     "metadata": {
      "needs_background": "light"
     },
     "output_type": "display_data"
    }
   ],
   "source": [
    "age_bins = int(df['Average Shooter Age'].max()-df['Average Shooter Age'].min())\n",
    "age_fig, ax_age = plt.subplots(nrows=1,ncols=1,sharex=True,figsize=(8,4))\n",
    "ax_age = pl.hist(df['Average Shooter Age'],bins=age_bins,color='red')\n",
    "pl.suptitle('Mass Shootings by Average Shooter Age')\n",
    "pl.ylabel('Mass Shootings')\n",
    "age_fig.text(0.4,0.04,'Average Shooter Age')\n",
    "age_fig.savefig(f\"{images_dir}/AgeHist.png\")"
   ]
  },
  {
   "cell_type": "code",
   "execution_count": 294,
   "metadata": {
    "ExecuteTime": {
     "end_time": "2019-11-04T02:14:15.638904Z",
     "start_time": "2019-11-04T02:14:15.376092Z"
    }
   },
   "outputs": [
    {
     "data": {
      "image/png": "[encoded data removed]",
      "text/plain": [
       "<Figure size 576x288 with 3 Axes>"
      ]
     },
     "metadata": {
      "needs_background": "light"
     },
     "output_type": "display_data"
    }
   ],
   "source": [
    "genderdf = df.groupby('Shooter Sex').agg({'CaseID':'count',\n",
    "                                           'Victims':'mean'\n",
    "                                          })\n",
    "genderdf.rename(columns={'CaseID':'Mass Shootings'},inplace=True)\n",
    "genderdf.head()\n",
    "gender_fig = plt.figure(figsize=(8,4))\n",
    "gender_ax1 = gender_fig.add_subplot(111)\n",
    "gender_ax2 = gender_ax1.twinx()\n",
    "genderdf[\"Mass Shootings\"].plot.bar(color='Red',width=0.4,ax=gender_ax1,title=\"Gender Distribution of Mass Shootings\",position=1)\n",
    "genderdf[\"Victims\"].plot.bar(color='Orange',width=0.4,ax=gender_ax2,secondary_y=True,position=0)\n",
    "h1, l1 = gender_ax1.get_legend_handles_labels()\n",
    "h2, l2 = gender_ax2.right_ax.get_legend_handles_labels()\n",
    "gender_ax1.legend(h1+h2, l1+l2, loc=1)\n",
    "gender_ax1.set_ylabel(\"Mass Shootings\")\n",
    "gender_ax2.right_ax.set_ylabel(\"Victims\")\n",
    "gender_fig.savefig(f\"{images_dir}/ShooterSex.png\")"
   ]
  },
  {
   "cell_type": "code",
   "execution_count": 356,
   "metadata": {
    "ExecuteTime": {
     "end_time": "2019-11-04T03:49:02.281712Z",
     "start_time": "2019-11-04T03:49:01.898737Z"
    }
   },
   "outputs": [
    {
     "data": {
      "image/png": "[encoded data removed]",
      "text/plain": [
       "<Figure size 576x288 with 2 Axes>"
      ]
     },
     "metadata": {
      "needs_background": "light"
     },
     "output_type": "display_data"
    }
   ],
   "source": [
    "df['Date'] = df['Date'].apply(pd.to_datetime)\n",
    "victims_df = df.groupby('Date').agg({'Victims':'sum','Fatalities':'sum'})\n",
    "victims_df = victims_df.reset_index()\n",
    "victims_df['Date'] = victims_df['Date'].apply(pd.to_datetime)\n",
    "victims_fig = plt.figure(figsize=(8,4))\n",
    "ax_victims = victims_fig.add_subplot(111)\n",
    "ax_fatalities = ax_victims.twinx()\n",
    "victims_df.plot.area(x='Date',y='Victims',color='orange',ax=ax_victims,title=\"Victims and Fatalities Trend\")\n",
    "victims_df.plot.area(x='Date',y='Fatalities',color='red',ax=ax_victims)\n",
    "ax_victims.set_ylim(0,110)\n",
    "#ticklabels = ['']*len(victims_df)\n",
    "#spacing = 15\n",
    "#ticklabels[::spacing] = [item.strftime('%m/%Y') for item in victims_df['Date'][::spacing]]\n",
    "#ax_victims.xaxis.set_major_formatter(ticker.FixedFormatter(ticklabels))\n",
    "victims_fig.savefig(f\"{images_dir}/Victims.png\")\n"
   ]
  },
  {
   "cell_type": "code",
   "execution_count": 305,
   "metadata": {
    "ExecuteTime": {
     "end_time": "2019-11-04T02:17:40.925383Z",
     "start_time": "2019-11-04T02:17:40.713916Z"
    }
   },
   "outputs": [
    {
     "data": {
      "image/png": "[encoded data removed]",
      "text/plain": [
       "<Figure size 576x288 with 1 Axes>"
      ]
     },
     "metadata": {
      "needs_background": "light"
     },
     "output_type": "display_data"
    }
   ],
   "source": [
    "incidentsdf = df.groupby('Date').agg({'CaseID':'count'})\n",
    "incidentsdf.rename(columns={'CaseID':'Incidents'},inplace=True)\n",
    "incidence_fig = plt.figure(figsize=(8,4))\n",
    "ax_incidence = incidence_fig.add_subplot(111)\n",
    "incidentsdf.plot(color='red',style='.',title='Inicidents Trend',ax=ax_incidence)\n",
    "incidence_fig.savefig(f\"{images_dir}/Incidence.png\")"
   ]
  },
  {
   "cell_type": "code",
   "execution_count": null,
   "metadata": {},
   "outputs": [],
   "source": []
  },
  {
   "cell_type": "code",
   "execution_count": null,
   "metadata": {},
   "outputs": [],
   "source": []
  }
 ],
 "metadata": {
  "kernelspec": {
   "display_name": "Python 3",
   "language": "python",
   "name": "python3"
  },
  "language_info": {
   "codemirror_mode": {
    "name": "ipython",
    "version": 3
   },
   "file_extension": ".py",
   "mimetype": "text/x-python",
   "name": "python",
   "nbconvert_exporter": "python",
   "pygments_lexer": "ipython3",
   "version": "3.7.3"
  },
  "varInspector": {
   "cols": {
    "lenName": 16,
    "lenType": 16,
    "lenVar": 40
   },
   "kernels_config": {
    "python": {
     "delete_cmd_postfix": "",
     "delete_cmd_prefix": "del ",
     "library": "var_list.py",
     "varRefreshCmd": "print(var_dic_list())"
    },
    "r": {
     "delete_cmd_postfix": ") ",
     "delete_cmd_prefix": "rm(",
     "library": "var_list.r",
     "varRefreshCmd": "cat(var_dic_list()) "
    }
   },
   "types_to_exclude": [
    "module",
    "function",
    "builtin_function_or_method",
    "instance",
    "_Feature"
   ],
   "window_display": false
  }
 },
 "nbformat": 4,
 "nbformat_minor": 2
}
